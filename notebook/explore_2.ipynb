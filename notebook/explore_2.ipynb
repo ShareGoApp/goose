{
 "cells": [
  {
   "cell_type": "code",
   "execution_count": 125,
   "metadata": {},
   "outputs": [],
   "source": [
    "# data libaries\n",
    "from tslearn.metrics import dtw\n",
    "import numpy as np\n",
    "import pandas as pd\n",
    "import math"
   ]
  },
  {
   "cell_type": "code",
   "execution_count": 126,
   "metadata": {},
   "outputs": [],
   "source": [
    "from datetime import datetime\n",
    "import json"
   ]
  },
  {
   "cell_type": "markdown",
   "metadata": {},
   "source": [
    "## Load Trajectory Data"
   ]
  },
  {
   "cell_type": "code",
   "execution_count": 127,
   "metadata": {},
   "outputs": [],
   "source": [
    "with open(\"./search_p.json\", 'r') as file:\n",
    "    data_passenger = json.load(file)"
   ]
  },
  {
   "cell_type": "code",
   "execution_count": 128,
   "metadata": {},
   "outputs": [],
   "source": [
    "loca_p = data_passenger[\"route\"][\"shape\"][\"coordinates\"]\n",
    "time_p = data_passenger[\"route\"][\"timestamps\"]\n",
    "data_p = []"
   ]
  },
  {
   "cell_type": "code",
   "execution_count": 129,
   "metadata": {},
   "outputs": [],
   "source": [
    "for coordinates, timestamp in zip(loca_p, time_p):\n",
    "    data_p.append([*coordinates, timestamp['$date']])"
   ]
  },
  {
   "cell_type": "code",
   "execution_count": 130,
   "metadata": {},
   "outputs": [],
   "source": [
    "with open(\"./search_d.json\", 'r') as file:\n",
    "    data_driver = json.load(file)"
   ]
  },
  {
   "cell_type": "code",
   "execution_count": 131,
   "metadata": {},
   "outputs": [],
   "source": [
    "loca_d = data_driver[\"route\"][\"shape\"][\"coordinates\"]\n",
    "time_d = data_driver[\"route\"][\"timestamps\"]\n",
    "data_d = []"
   ]
  },
  {
   "cell_type": "code",
   "execution_count": 132,
   "metadata": {},
   "outputs": [],
   "source": [
    "for coordinates, timestamp in zip(loca_d, time_d):\n",
    "    data_d.append([*coordinates, timestamp['$date']])"
   ]
  },
  {
   "cell_type": "markdown",
   "metadata": {},
   "source": [
    "##  Data conversion"
   ]
  },
  {
   "cell_type": "code",
   "execution_count": 133,
   "metadata": {},
   "outputs": [],
   "source": [
    "def convert_to_unix(timestamp) -> float:\n",
    "    datetime_obj = datetime.fromisoformat(timestamp.replace('Z', '+00:00'))\n",
    "    unix_time = datetime_obj.timestamp()\n",
    "    return unix_time"
   ]
  },
  {
   "cell_type": "code",
   "execution_count": 134,
   "metadata": {},
   "outputs": [],
   "source": [
    "def convert_data(matrix):\n",
    "    # Convert the timestamps to Unix time using pandas (you could also use datetime module in Python)\n",
    "    timestamps = [convert_to_unix(date) for _ , _ , date in matrix]\n",
    "\n",
    "    # Create a numpy array for latitudes, longitudes, and Unix timestamps\n",
    "    latitudes = np.array([lat for lat, _, _ in matrix])\n",
    "    longitudes = np.array([lng for _, lng, _ in matrix])\n",
    "    timestamps = np.array(timestamps)\n",
    "\n",
    "    return np.array(list(zip(latitudes, longitudes, timestamps)))"
   ]
  },
  {
   "cell_type": "code",
   "execution_count": 135,
   "metadata": {},
   "outputs": [],
   "source": [
    "np_passenger = convert_data(data_p)\n",
    "np_driver = convert_data(data_d)"
   ]
  },
  {
   "cell_type": "code",
   "execution_count": 136,
   "metadata": {},
   "outputs": [
    {
     "data": {
      "text/plain": [
       "array([[1.13569500e+01, 5.54078300e+01, 1.71500697e+09],\n",
       "       [1.13627800e+01, 5.54085400e+01, 1.71500701e+09],\n",
       "       [1.13635500e+01, 5.54065400e+01, 1.71500705e+09],\n",
       "       [1.13629000e+01, 5.54063900e+01, 1.71500706e+09],\n",
       "       [1.13614700e+01, 5.54003400e+01, 1.71500714e+09],\n",
       "       [1.13592400e+01, 5.53989100e+01, 1.71500718e+09],\n",
       "       [1.13635500e+01, 5.53920900e+01, 1.71500725e+09],\n",
       "       [1.13594200e+01, 5.53907000e+01, 1.71500729e+09],\n",
       "       [1.13564900e+01, 5.53886200e+01, 1.71500736e+09],\n",
       "       [1.13418200e+01, 5.53857300e+01, 1.71500738e+09],\n",
       "       [1.13134700e+01, 5.53777500e+01, 1.71500745e+09],\n",
       "       [1.12957000e+01, 5.53702800e+01, 1.71500751e+09],\n",
       "       [1.12871100e+01, 5.53677000e+01, 1.71500767e+09],\n",
       "       [1.12247700e+01, 5.53625800e+01, 1.71500771e+09],\n",
       "       [1.11867900e+01, 5.53624400e+01, 1.71500775e+09],\n",
       "       [1.11688700e+01, 5.53608100e+01, 1.71500780e+09],\n",
       "       [1.11605200e+01, 5.53590100e+01, 1.71500786e+09],\n",
       "       [1.11431700e+01, 5.53514000e+01, 1.71500790e+09],\n",
       "       [1.11338000e+01, 5.53491000e+01, 1.71500795e+09],\n",
       "       [1.11233400e+01, 5.53485100e+01, 1.71500803e+09],\n",
       "       [1.11053000e+01, 5.53498700e+01, 1.71500807e+09],\n",
       "       [1.10934500e+01, 5.53492600e+01, 1.71500812e+09],\n",
       "       [1.09777400e+01, 5.53343800e+01, 1.71500817e+09],\n",
       "       [1.09575600e+01, 5.53296800e+01, 1.71500823e+09],\n",
       "       [1.09237300e+01, 5.53171800e+01, 1.71500827e+09],\n",
       "       [1.08978000e+01, 5.53094100e+01, 1.71500831e+09],\n",
       "       [1.08699100e+01, 5.53028700e+01, 1.71500837e+09],\n",
       "       [1.08425400e+01, 5.52984600e+01, 1.71500846e+09],\n",
       "       [1.08330700e+01, 5.53001200e+01, 1.71500851e+09],\n",
       "       [1.08240200e+01, 5.53043800e+01, 1.71500858e+09],\n",
       "       [1.08153400e+01, 5.53072400e+01, 1.71500860e+09],\n",
       "       [1.08105600e+01, 5.53100300e+01, 1.71500863e+09],\n",
       "       [1.08068000e+01, 5.53146300e+01, 1.71500867e+09],\n",
       "       [1.08045700e+01, 5.53253400e+01, 1.71500870e+09],\n",
       "       [1.08032800e+01, 5.53280000e+01, 1.71500873e+09],\n",
       "       [1.07994100e+01, 5.53311800e+01, 1.71500876e+09],\n",
       "       [1.07943200e+01, 5.53331300e+01, 1.71500880e+09],\n",
       "       [1.07873400e+01, 5.53339600e+01, 1.71500884e+09],\n",
       "       [1.07508500e+01, 5.53317300e+01, 1.71500890e+09],\n",
       "       [1.07344400e+01, 5.53321900e+01, 1.71500895e+09],\n",
       "       [1.07092100e+01, 5.53357600e+01, 1.71500900e+09],\n",
       "       [1.06747300e+01, 5.53429600e+01, 1.71500903e+09],\n",
       "       [1.06621600e+01, 5.53438100e+01, 1.71500908e+09],\n",
       "       [1.06321500e+01, 5.53439300e+01, 1.71500916e+09],\n",
       "       [1.06034800e+01, 5.53486500e+01, 1.71500923e+09],\n",
       "       [1.05772200e+01, 5.53511100e+01, 1.71500926e+09],\n",
       "       [1.05644800e+01, 5.53543400e+01, 1.71500933e+09],\n",
       "       [1.05372600e+01, 5.53639100e+01, 1.71500941e+09],\n",
       "       [1.05165000e+01, 5.53662700e+01, 1.71500945e+09],\n",
       "       [1.05077400e+01, 5.53703500e+01, 1.71500953e+09],\n",
       "       [1.04947300e+01, 5.53750000e+01, 1.71500957e+09],\n",
       "       [1.04879300e+01, 5.53760000e+01, 1.71500963e+09],\n",
       "       [1.04797000e+01, 5.53757500e+01, 1.71500971e+09],\n",
       "       [1.04797800e+01, 5.53889300e+01, 1.71501019e+09],\n",
       "       [1.04053300e+01, 5.53942400e+01, 1.71501026e+09],\n",
       "       [1.04055700e+01, 5.53994300e+01, 1.71501034e+09],\n",
       "       [1.04004700e+01, 5.54019900e+01, 1.71501039e+09],\n",
       "       [1.03952900e+01, 5.54015700e+01, 1.71501039e+09]])"
      ]
     },
     "execution_count": 136,
     "metadata": {},
     "output_type": "execute_result"
    }
   ],
   "source": [
    "np_driver"
   ]
  },
  {
   "cell_type": "markdown",
   "metadata": {},
   "source": [
    "### GPS point interpolation"
   ]
  },
  {
   "cell_type": "code",
   "execution_count": 137,
   "metadata": {},
   "outputs": [],
   "source": [
    "# Calculate the distance between two points on the Earth's surface using Haversine formula.\n",
    "def haversine_distance(lat1, lon1, lat2, lon2):\n",
    "    R = 6371  # Radius of the Earth in kilometers\n",
    "    d_lat = math.radians(lat2 - lat1)\n",
    "    d_lon = math.radians(lon2 - lon1)\n",
    "    a = math.sin(d_lat/2) * math.sin(d_lat/2) + math.cos(math.radians(lat1)) * math.cos(math.radians(lat2)) * math.sin(d_lon/2) * math.sin(d_lon/2)\n",
    "    c = 2 * math.atan2(math.sqrt(a), math.sqrt(1-a))\n",
    "    d = R * c\n",
    "    return d"
   ]
  },
  {
   "cell_type": "code",
   "execution_count": 138,
   "metadata": {},
   "outputs": [],
   "source": [
    "# used to extend line segments for finer control.\n",
    "def intermediate_points(lat1, lon1, lat2, lon2, n):\n",
    "    intermediate_points = []\n",
    "    total_distance = haversine_distance(lat1, lon1, lat2, lon2)\n",
    "    segment_distance = total_distance / (n + 1)  # n+2 points including the start and end points\n",
    "    for i in range(1, n + 1):\n",
    "        f = segment_distance * i / total_distance\n",
    "        lat = lat1 + f * (lat2 - lat1)\n",
    "        lon = lon1 + f * (lon2 - lon1)\n",
    "        intermediate_points.append((lat, lon))\n",
    "    return intermediate_points"
   ]
  },
  {
   "cell_type": "code",
   "execution_count": 139,
   "metadata": {},
   "outputs": [],
   "source": [
    "# Find the closest pair of points between two sets of points.\n",
    "def closest_pair(points1, points2):\n",
    "    min_distance = float('inf')\n",
    "    closest_point_pair = None\n",
    "    for p1 in points1:\n",
    "        for p2 in points2:\n",
    "            d = haversine_distance(p1[0], p1[1], p2[0], p2[1])\n",
    "            if d < min_distance:\n",
    "                min_distance = d\n",
    "                closest_point_pair = (p1, p2)\n",
    "    return closest_point_pair, min_distance"
   ]
  },
  {
   "cell_type": "code",
   "execution_count": 140,
   "metadata": {},
   "outputs": [],
   "source": [
    "# p1_points = intermediate_points(p1_start[0], p1_start[1], p1_end[0], p1_end[1], 10)\n",
    "distance = dtw(np_passenger, np_driver)"
   ]
  },
  {
   "cell_type": "code",
   "execution_count": 141,
   "metadata": {},
   "outputs": [
    {
     "name": "stdout",
     "output_type": "stream",
     "text": [
      "Distance from passenger to driver: 0.0\n"
     ]
    }
   ],
   "source": [
    "print(f\"Distance from passenger to driver: {distance}\")"
   ]
  }
 ],
 "metadata": {
  "kernelspec": {
   "display_name": ".venv",
   "language": "python",
   "name": "python3"
  },
  "language_info": {
   "codemirror_mode": {
    "name": "ipython",
    "version": 3
   },
   "file_extension": ".py",
   "mimetype": "text/x-python",
   "name": "python",
   "nbconvert_exporter": "python",
   "pygments_lexer": "ipython3",
   "version": "3.12.1"
  }
 },
 "nbformat": 4,
 "nbformat_minor": 2
}
