{
 "cells": [
  {
   "cell_type": "code",
   "execution_count": 1,
   "metadata": {},
   "outputs": [
    {
     "name": "stdout",
     "output_type": "stream",
     "text": [
      "Requirement already satisfied: pymongo in /Users/vk64lk/Documents/github/skarp/goose/.venv/lib/python3.12/site-packages (4.6.3)\n",
      "Requirement already satisfied: dnspython<3.0.0,>=1.16.0 in /Users/vk64lk/Documents/github/skarp/goose/.venv/lib/python3.12/site-packages (from pymongo) (2.6.1)\n",
      "Note: you may need to restart the kernel to use updated packages.\n",
      "Requirement already satisfied: certifi in /Users/vk64lk/Documents/github/skarp/goose/.venv/lib/python3.12/site-packages (2024.2.2)\n",
      "Note: you may need to restart the kernel to use updated packages.\n"
     ]
    }
   ],
   "source": [
    "# %pip install geojson\n",
    "%pip install pymongo\n",
    "%pip install certifi"
   ]
  },
  {
   "cell_type": "code",
   "execution_count": 13,
   "metadata": {},
   "outputs": [],
   "source": [
    "# data libaries\n",
    "import numpy as np\n",
    "import pandas as pd\n",
    "import math"
   ]
  },
  {
   "cell_type": "code",
   "execution_count": 14,
   "metadata": {},
   "outputs": [],
   "source": [
    "# data type libaries\n",
    "from datetime import datetime\n",
    "from geojson import Feature"
   ]
  },
  {
   "cell_type": "markdown",
   "metadata": {},
   "source": [
    "# Sample Trajectories"
   ]
  },
  {
   "cell_type": "code",
   "execution_count": 10,
   "metadata": {},
   "outputs": [],
   "source": [
    "# Define Trajectory 1\n",
    "passenger = [\n",
    "    [40.747776, -73.987974, \"2024-04-09T11:00:00Z\"],\n",
    "    [40.748776, -73.986974, \"2024-04-09T11:05:00Z\"],\n",
    "    [40.749776, -73.985974, \"2024-04-09T11:10:00Z\"],\n",
    "    [40.750776, -73.984974, \"2024-04-09T11:15:00Z\"],\n",
    "]\n",
    "\n",
    "drivers = [\n",
    "    [\n",
    "        [40.747876, -73.988074, \"2024-04-09T11:00:00Z\"],\n",
    "        [40.748876, -73.987074, \"2024-04-09T11:05:00Z\"],\n",
    "        [40.749876, -73.986074, \"2024-04-09T11:10:00Z\"],\n",
    "        [40.750876, -73.985074, \"2024-04-09T11:15:00Z\"],\n",
    "    ],\n",
    "    [\n",
    "        [40.747976, -73.988174, \"2024-04-09T11:00:00Z\"],\n",
    "        [40.748976, -73.987174, \"2024-04-09T11:05:00Z\"],\n",
    "        [40.749976, -73.986174, \"2024-04-09T11:10:00Z\"],\n",
    "        [40.750976, -73.985174, \"2024-04-09T11:15:00Z\"],\n",
    "    ],\n",
    "]\n",
    "\n",
    "driver1 = [\n",
    "    [40.747876, -73.988074, \"2024-04-09T11:00:00Z\"],\n",
    "    [40.748876, -73.987074, \"2024-04-09T11:05:00Z\"],\n",
    "    [40.749876, -73.986074, \"2024-04-09T11:10:00Z\"],\n",
    "    [40.750876, -73.985074, \"2024-04-09T11:15:00Z\"],\n",
    "]\n",
    "\n",
    "driver2 = [\n",
    "    [40.747976, -73.988174, \"2024-04-09T11:00:00Z\"],\n",
    "    [40.748976, -73.987174, \"2024-04-09T11:05:00Z\"],\n",
    "    [40.749976, -73.986174, \"2024-04-09T11:10:00Z\"],\n",
    "    [40.750976, -73.985174, \"2024-04-09T11:15:00Z\"],\n",
    "]"
   ]
  },
  {
   "cell_type": "code",
   "execution_count": 16,
   "metadata": {},
   "outputs": [],
   "source": [
    "# data pulled from database\n",
    "sample_request = {\n",
    "  \"_id\": {\n",
    "    \"$oid\": \"661fc5c0bc83e7536732d789\"\n",
    "  },\n",
    "  \"type\": \"FeatureCollection\",\n",
    "  \"features\": [\n",
    "    {\n",
    "      \"type\": \"Feature\",\n",
    "      \"geometry\": {\n",
    "        \"type\": \"Point\",\n",
    "        \"coordinates\": [\n",
    "          -63.988074,\n",
    "          40.747876\n",
    "        ]\n",
    "      },\n",
    "      \"properties\": {\n",
    "        \"time\": \"2024-04-09T11:00:00Z\"\n",
    "      }\n",
    "    },\n",
    "    {\n",
    "      \"type\": \"Feature\",\n",
    "      \"geometry\": {\n",
    "        \"type\": \"Point\",\n",
    "        \"coordinates\": [\n",
    "          -73.987074,\n",
    "          40.748876\n",
    "        ]\n",
    "      },\n",
    "      \"properties\": {\n",
    "        \"time\": \"2024-04-09T11:05:00Z\"\n",
    "      }\n",
    "    },\n",
    "    {\n",
    "      \"type\": \"Feature\",\n",
    "      \"geometry\": {\n",
    "        \"type\": \"Point\",\n",
    "        \"coordinates\": [\n",
    "          -73.986074,\n",
    "          40.749876\n",
    "        ]\n",
    "      },\n",
    "      \"properties\": {\n",
    "        \"time\": \"2024-04-09T11:10:00Z\"\n",
    "      }\n",
    "    },\n",
    "    {\n",
    "      \"type\": \"Feature\",\n",
    "      \"geometry\": {\n",
    "        \"type\": \"Point\",\n",
    "        \"coordinates\": [\n",
    "          -73.985074,\n",
    "          40.750876\n",
    "        ]\n",
    "      },\n",
    "      \"properties\": {\n",
    "        \"time\": \"2024-04-09T11:15:00Z\"\n",
    "      }\n",
    "    }\n",
    "  ]\n",
    "}"
   ]
  },
  {
   "cell_type": "markdown",
   "metadata": {},
   "source": [
    "### Data Conversion"
   ]
  },
  {
   "cell_type": "code",
   "execution_count": 6,
   "metadata": {},
   "outputs": [],
   "source": [
    "def convert_to_unix(timestamp) -> float:\n",
    "    datetime_obj = datetime.fromisoformat(timestamp.replace('Z', '+00:00'))\n",
    "    unix_time = datetime_obj.timestamp()\n",
    "    return unix_time"
   ]
  },
  {
   "cell_type": "code",
   "execution_count": 12,
   "metadata": {},
   "outputs": [],
   "source": [
    "def convert_data(matrix):\n",
    "    # Convert the timestamps to Unix time using pandas (you could also use datetime module in Python)\n",
    "    timestamps = [convert_to_unix(date) for _ , _ , date in matrix]\n",
    "\n",
    "    # Create a numpy array for latitudes, longitudes, and Unix timestamps\n",
    "    latitudes = np.array([lat for lat, _, _ in matrix])\n",
    "    longitudes = np.array([lng for _, lng, _ in matrix])\n",
    "    timestamps = np.array(timestamps)\n",
    "\n",
    "    return np.array(list(zip(latitudes, longitudes, timestamps)))\n"
   ]
  },
  {
   "cell_type": "code",
   "execution_count": 17,
   "metadata": {},
   "outputs": [],
   "source": [
    "# convert geojson point features to numpy.ndarray\n",
    "def geojson_to_ndarray(geojson_data):\n",
    "    try:\n",
    "        data = []\n",
    "        for feature in geojson_data[\"features\"]:\n",
    "            latitude = feature[\"geometry\"][\"coordinates\"][1]\n",
    "            longitude = feature[\"geometry\"][\"coordinates\"][0]\n",
    "            time = feature[\"properties\"][\"time\"]\n",
    "            unix_time = convert_to_unix(time)\n",
    "            data.append([latitude, longitude, unix_time])\n",
    "\n",
    "        if not data:\n",
    "            return None\n",
    "\n",
    "        return np.array(data)\n",
    "    except Exception as e:\n",
    "        print(f\"An error occurred: {str(e)}\")"
   ]
  },
  {
   "cell_type": "code",
   "execution_count": 20,
   "metadata": {},
   "outputs": [
    {
     "data": {
      "text/plain": [
       "array([[ 4.0747776e+01, -7.3987974e+01,  1.7126604e+09],\n",
       "       [ 4.0748776e+01, -7.3986974e+01,  1.7126607e+09],\n",
       "       [ 4.0749776e+01, -7.3985974e+01,  1.7126610e+09],\n",
       "       [ 4.0750776e+01, -7.3984974e+01,  1.7126613e+09]])"
      ]
     },
     "execution_count": 20,
     "metadata": {},
     "output_type": "execute_result"
    }
   ],
   "source": [
    "## Example Conversion\n",
    "convert_data(passenger)"
   ]
  },
  {
   "cell_type": "code",
   "execution_count": 21,
   "metadata": {},
   "outputs": [
    {
     "data": {
      "text/plain": [
       "array([[ 4.0747876e+01, -6.3988074e+01,  1.7126604e+09],\n",
       "       [ 4.0748876e+01, -7.3987074e+01,  1.7126607e+09],\n",
       "       [ 4.0749876e+01, -7.3986074e+01,  1.7126610e+09],\n",
       "       [ 4.0750876e+01, -7.3985074e+01,  1.7126613e+09]])"
      ]
     },
     "execution_count": 21,
     "metadata": {},
     "output_type": "execute_result"
    }
   ],
   "source": [
    "geojson_to_ndarray(sample_request)"
   ]
  },
  {
   "cell_type": "markdown",
   "metadata": {},
   "source": [
    "## Testing of Dynamic Time Warping Libraries\n",
    "\n",
    "### TSLearn"
   ]
  },
  {
   "cell_type": "code",
   "execution_count": 143,
   "metadata": {},
   "outputs": [
    {
     "data": {
      "text/plain": [
       "6.0401025336665315"
      ]
     },
     "execution_count": 143,
     "metadata": {},
     "output_type": "execute_result"
    }
   ],
   "source": [
    "from tslearn.metrics import dtw\n",
    "\n",
    "# Numpy Matrix\n",
    "ts1 = np.random.random((100,3))\n",
    "ts2 = np.random.random((150,3))\n",
    "\n",
    "# TSLean DTW test\n",
    "distance = dtw(ts1, ts2)"
   ]
  },
  {
   "cell_type": "code",
   "execution_count": 144,
   "metadata": {},
   "outputs": [],
   "source": [
    "# trajectory data to np\n",
    "passenger_data = convert_data(passenger)\n",
    "driver_data_1 = convert_data(driver1)\n",
    "driver_data_2 = convert_data(driver2)"
   ]
  },
  {
   "cell_type": "code",
   "execution_count": 145,
   "metadata": {},
   "outputs": [],
   "source": [
    "dist1 = dtw(passenger_data, driver_data_1)\n",
    "dist2 = dtw(passenger_data, driver_data_2)"
   ]
  },
  {
   "cell_type": "code",
   "execution_count": 147,
   "metadata": {},
   "outputs": [
    {
     "name": "stdout",
     "output_type": "stream",
     "text": [
      "Distance from passenger to driver 1: 0.0002828427124789841\n",
      "Distance from passenger to driver 2: 0.0005656854249529439\n"
     ]
    }
   ],
   "source": [
    "print(f\"Distance from passenger to driver 1: {dist1}\")\n",
    "print(f\"Distance from passenger to driver 2: {dist2}\")"
   ]
  },
  {
   "cell_type": "markdown",
   "metadata": {},
   "source": [
    "### GPS point interpolation"
   ]
  },
  {
   "cell_type": "code",
   "execution_count": 15,
   "metadata": {},
   "outputs": [],
   "source": [
    "# Calculate the distance between two points on the Earth's surface using Haversine formula.\n",
    "def haversine_distance(lat1, lon1, lat2, lon2):\n",
    "    \"\"\"\n",
    "    \n",
    "    \"\"\"\n",
    "    R = 6371  # Radius of the Earth in kilometers\n",
    "    d_lat = math.radians(lat2 - lat1)\n",
    "    d_lon = math.radians(lon2 - lon1)\n",
    "    a = math.sin(d_lat/2) * math.sin(d_lat/2) + math.cos(math.radians(lat1)) * math.cos(math.radians(lat2)) * math.sin(d_lon/2) * math.sin(d_lon/2)\n",
    "    c = 2 * math.atan2(math.sqrt(a), math.sqrt(1-a))\n",
    "    d = R * c\n",
    "    return d"
   ]
  },
  {
   "cell_type": "code",
   "execution_count": 29,
   "metadata": {},
   "outputs": [],
   "source": [
    "# Compute intermediate points along the trajectory between two points.\n",
    "def intermediate_points(lat1, lon1, lat2, lon2, n):\n",
    "    intermediate_points = []\n",
    "    total_distance = haversine_distance(lat1, lon1, lat2, lon2)\n",
    "    segment_distance = total_distance / (n + 1)  # n+2 points including the start and end points\n",
    "    for i in range(1, n + 1):\n",
    "        f = segment_distance * i / total_distance\n",
    "        lat = lat1 + f * (lat2 - lat1)\n",
    "        lon = lon1 + f * (lon2 - lon1)\n",
    "        intermediate_points.append((lat, lon))\n",
    "    return intermediate_points"
   ]
  },
  {
   "cell_type": "code",
   "execution_count": 30,
   "metadata": {},
   "outputs": [],
   "source": [
    "# passenger 1 trajectory: 55.463125, 10.089167 -> 55.535027, 10.096811\n",
    "p1_start = [55.463125, 10.089167]\n",
    "p1_end = [55.535027, 10.096811]\n",
    "\n",
    "# passenger 2 trajectory: 55.502454, 10.076493 -> 55.496300, 10.109686\n",
    "p2_start = [55.502454, 10.076493]\n",
    "p2_end = [55.496300, 10.109686]\n",
    "\n",
    "# cross point: 55.498474, 10.096576\n",
    "cross_point = [55.498474, 10.096576]"
   ]
  },
  {
   "cell_type": "code",
   "execution_count": 31,
   "metadata": {},
   "outputs": [],
   "source": [
    "p1_points = intermediate_points(p1_start[0], p1_start[1], p1_end[0], p1_end[1], 10)"
   ]
  },
  {
   "cell_type": "code",
   "execution_count": 18,
   "metadata": {},
   "outputs": [],
   "source": [
    "p2_points = intermediate_points(p2_start[0], p2_start[1], p2_end[0], p2_end[1], 10)"
   ]
  },
  {
   "cell_type": "code",
   "execution_count": 35,
   "metadata": {},
   "outputs": [
    {
     "data": {
      "text/plain": [
       "[(55.46966154545454, 10.089861909090908),\n",
       " (55.47619809090909, 10.090556818181819),\n",
       " (55.48273463636364, 10.091251727272727),\n",
       " (55.48927118181818, 10.091946636363636),\n",
       " (55.49580772727273, 10.092641545454546),\n",
       " (55.50234427272727, 10.093336454545454),\n",
       " (55.508880818181815, 10.094031363636365),\n",
       " (55.51541736363636, 10.094726272727273),\n",
       " (55.52195390909091, 10.095421181818182),\n",
       " (55.528490454545455, 10.096116090909092)]"
      ]
     },
     "execution_count": 35,
     "metadata": {},
     "output_type": "execute_result"
    }
   ],
   "source": [
    "p1_points"
   ]
  },
  {
   "cell_type": "code",
   "execution_count": 34,
   "metadata": {},
   "outputs": [
    {
     "data": {
      "text/plain": [
       "[(55.50189454545455, 10.079510545454545),\n",
       " (55.50133509090909, 10.08252809090909),\n",
       " (55.500775636363635, 10.085545636363635),\n",
       " (55.50021618181818, 10.08856318181818),\n",
       " (55.49965672727273, 10.091580727272726),\n",
       " (55.49909727272727, 10.094598272727273),\n",
       " (55.498537818181816, 10.097615818181819),\n",
       " (55.49797836363636, 10.100633363636364),\n",
       " (55.49741890909091, 10.10365090909091),\n",
       " (55.49685945454545, 10.106668454545455)]"
      ]
     },
     "execution_count": 34,
     "metadata": {},
     "output_type": "execute_result"
    }
   ],
   "source": [
    "p2_points"
   ]
  },
  {
   "cell_type": "code",
   "execution_count": 38,
   "metadata": {},
   "outputs": [],
   "source": [
    "# Find the closest pair of points between two sets of points.\n",
    "def closest_pair(points1, points2):\n",
    "    min_distance = float('inf')\n",
    "    closest_point_pair = None\n",
    "    for p1 in points1:\n",
    "        for p2 in points2:\n",
    "            d = haversine_distance(p1[0], p1[1], p2[0], p2[1])\n",
    "            if d < min_distance:\n",
    "                min_distance = d\n",
    "                closest_point_pair = (p1, p2)\n",
    "    return closest_point_pair, min_distance"
   ]
  },
  {
   "cell_type": "code",
   "execution_count": 37,
   "metadata": {},
   "outputs": [
    {
     "name": "stdout",
     "output_type": "stream",
     "text": [
      "Closest pair of points: ((55.50234427272727, 10.093336454545454), (55.49965672727273, 10.091580727272726))\n",
      "Minimum distance: 0.3186426547212403\n"
     ]
    }
   ],
   "source": [
    "closest_pair, min_distance = closest_pair(p1_points, p2_points)\n",
    "print(\"Closest pair of points:\", closest_pair)\n",
    "print(\"Minimum distance:\", min_distance)"
   ]
  }
 ],
 "metadata": {
  "kernelspec": {
   "display_name": ".venv",
   "language": "python",
   "name": "python3"
  },
  "language_info": {
   "codemirror_mode": {
    "name": "ipython",
    "version": 3
   },
   "file_extension": ".py",
   "mimetype": "text/x-python",
   "name": "python",
   "nbconvert_exporter": "python",
   "pygments_lexer": "ipython3",
   "version": "3.12.1"
  }
 },
 "nbformat": 4,
 "nbformat_minor": 2
}
