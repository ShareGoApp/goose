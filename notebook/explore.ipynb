{
 "cells": [
  {
   "cell_type": "code",
   "execution_count": 138,
   "metadata": {},
   "outputs": [],
   "source": [
    "import numpy as np\n",
    "import pandas as pd\n",
    "from datetime import datetime"
   ]
  },
  {
   "cell_type": "markdown",
   "metadata": {},
   "source": [
    "# Sample Trajectories"
   ]
  },
  {
   "cell_type": "code",
   "execution_count": 139,
   "metadata": {},
   "outputs": [],
   "source": [
    "# Define Trajectory 1\n",
    "passenger = [\n",
    "    [40.747776, -73.987974, \"2024-04-09T11:00:00Z\"],\n",
    "    [40.748776, -73.986974, \"2024-04-09T11:05:00Z\"],\n",
    "    [40.749776, -73.985974, \"2024-04-09T11:10:00Z\"],\n",
    "    [40.750776, -73.984974, \"2024-04-09T11:15:00Z\"],\n",
    "]\n",
    "\n",
    "drivers = [\n",
    "    [\n",
    "        [40.747876, -73.988074, \"2024-04-09T11:00:00Z\"],\n",
    "        [40.748876, -73.987074, \"2024-04-09T11:05:00Z\"],\n",
    "        [40.749876, -73.986074, \"2024-04-09T11:10:00Z\"],\n",
    "        [40.750876, -73.985074, \"2024-04-09T11:15:00Z\"],\n",
    "    ],\n",
    "    [\n",
    "        [40.747976, -73.988174, \"2024-04-09T11:00:00Z\"],\n",
    "        [40.748976, -73.987174, \"2024-04-09T11:05:00Z\"],\n",
    "        [40.749976, -73.986174, \"2024-04-09T11:10:00Z\"],\n",
    "        [40.750976, -73.985174, \"2024-04-09T11:15:00Z\"],\n",
    "    ],\n",
    "]\n",
    "\n",
    "driver1 = [\n",
    "    [40.747876, -73.988074, \"2024-04-09T11:00:00Z\"],\n",
    "    [40.748876, -73.987074, \"2024-04-09T11:05:00Z\"],\n",
    "    [40.749876, -73.986074, \"2024-04-09T11:10:00Z\"],\n",
    "    [40.750876, -73.985074, \"2024-04-09T11:15:00Z\"],\n",
    "]\n",
    "\n",
    "driver2 = [\n",
    "    [40.747976, -73.988174, \"2024-04-09T11:00:00Z\"],\n",
    "    [40.748976, -73.987174, \"2024-04-09T11:05:00Z\"],\n",
    "    [40.749976, -73.986174, \"2024-04-09T11:10:00Z\"],\n",
    "    [40.750976, -73.985174, \"2024-04-09T11:15:00Z\"],\n",
    "]"
   ]
  },
  {
   "cell_type": "markdown",
   "metadata": {},
   "source": [
    "### Data Conversion"
   ]
  },
  {
   "cell_type": "code",
   "execution_count": 140,
   "metadata": {},
   "outputs": [],
   "source": [
    "def convert_to_unix(timestamp) -> float:\n",
    "    datetime_obj = datetime.fromisoformat(timestamp.replace('Z', '+00:00'))\n",
    "    unix_time = datetime_obj.timestamp()\n",
    "    return unix_time"
   ]
  },
  {
   "cell_type": "code",
   "execution_count": 141,
   "metadata": {},
   "outputs": [],
   "source": [
    "def convert_data(matrix):\n",
    "    # Convert the timestamps to Unix time using pandas (you could also use datetime module in Python)\n",
    "    timestamps = [convert_to_unix(date) for _ , _ , date in matrix]\n",
    "\n",
    "    # Create a numpy array for latitudes, longitudes, and Unix timestamps\n",
    "    latitudes = np.array([lat for lat, _, _ in matrix])\n",
    "    longitudes = np.array([lng for _, lng, _ in matrix])\n",
    "    timestamps = np.array(timestamps)\n",
    "\n",
    "    return np.array(list(zip(latitudes, longitudes, timestamps)))\n"
   ]
  },
  {
   "cell_type": "code",
   "execution_count": 142,
   "metadata": {},
   "outputs": [
    {
     "data": {
      "text/plain": [
       "array([[ 4.0747776e+01, -7.3987974e+01,  1.7126604e+09],\n",
       "       [ 4.0748776e+01, -7.3986974e+01,  1.7126607e+09],\n",
       "       [ 4.0749776e+01, -7.3985974e+01,  1.7126610e+09],\n",
       "       [ 4.0750776e+01, -7.3984974e+01,  1.7126613e+09]])"
      ]
     },
     "execution_count": 142,
     "metadata": {},
     "output_type": "execute_result"
    }
   ],
   "source": [
    "## Example Conversion\n",
    "convert_data(passenger)"
   ]
  },
  {
   "cell_type": "markdown",
   "metadata": {},
   "source": [
    "## Testing of Dynamic Time Warping Libraries\n",
    "\n",
    "### TSLearn"
   ]
  },
  {
   "cell_type": "code",
   "execution_count": 143,
   "metadata": {},
   "outputs": [
    {
     "data": {
      "text/plain": [
       "6.0401025336665315"
      ]
     },
     "execution_count": 143,
     "metadata": {},
     "output_type": "execute_result"
    }
   ],
   "source": [
    "from tslearn.metrics import dtw\n",
    "\n",
    "# Numpy Matrix\n",
    "ts1 = np.random.random((100,3))\n",
    "ts2 = np.random.random((150,3))\n",
    "\n",
    "# TSLean DTW test\n",
    "distance = dtw(ts1, ts2)\n",
    "distance\n"
   ]
  },
  {
   "cell_type": "code",
   "execution_count": 144,
   "metadata": {},
   "outputs": [],
   "source": [
    "# trajectory data to np\n",
    "passenger_data = convert_data(passenger)\n",
    "driver_data_1 = convert_data(driver1)\n",
    "driver_data_2 = convert_data(driver2)"
   ]
  },
  {
   "cell_type": "code",
   "execution_count": 145,
   "metadata": {},
   "outputs": [],
   "source": [
    "dist1 = dtw(passenger_data, driver_data_1)\n",
    "dist2 = dtw(passenger_data, driver_data_2)"
   ]
  },
  {
   "cell_type": "code",
   "execution_count": 147,
   "metadata": {},
   "outputs": [
    {
     "name": "stdout",
     "output_type": "stream",
     "text": [
      "Distance from passenger to driver 1: 0.0002828427124789841\n",
      "Distance from passenger to driver 2: 0.0005656854249529439\n"
     ]
    }
   ],
   "source": [
    "print(f\"Distance from passenger to driver 1: {dist1}\")\n",
    "print(f\"Distance from passenger to driver 2: {dist2}\")"
   ]
  }
 ],
 "metadata": {
  "kernelspec": {
   "display_name": ".venv",
   "language": "python",
   "name": "python3"
  },
  "language_info": {
   "codemirror_mode": {
    "name": "ipython",
    "version": 3
   },
   "file_extension": ".py",
   "mimetype": "text/x-python",
   "name": "python",
   "nbconvert_exporter": "python",
   "pygments_lexer": "ipython3",
   "version": "3.12.1"
  }
 },
 "nbformat": 4,
 "nbformat_minor": 2
}
